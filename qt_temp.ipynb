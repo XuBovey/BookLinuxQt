{
 "cells": [
  {
   "cell_type": "markdown",
   "metadata": {},
   "source": [
    "# 目标\n",
    "\n",
    "设计一个温度显示界面\n",
    "\n",
    "| ![温度显示效果](./image/temp_1.png) | ![温度界面规划](./image/temp_2.png) |\n",
    "| :- | :- |\n",
    "\n",
    "图中左侧是需要达到的显示效果，右侧是UI给的布局。实现思路：先画窗口；然后窗口中显示相关数据；调整布局、格式：\n",
    "* Step1 最简单的QT工程\n",
    "* Step2 温度窗口界面\n",
    "* Step3 窗口中显示温度\n",
    "* Step4 窗口内容布局\n",
    "* [Step5] 增加时间显示"
   ]
  },
  {
   "cell_type": "markdown",
   "metadata": {},
   "source": [
    "# 最简单的QT工程"
   ]
  },
  {
   "cell_type": "code",
   "execution_count": 1,
   "metadata": {},
   "outputs": [],
   "source": [
    "# !/usr/bin/python3\n",
    "# -*- coding: utf-8 -*-"
   ]
  },
  {
   "cell_type": "markdown",
   "metadata": {},
   "source": [
    "`# !/usr/bin/python3`此语句在解释型语言文件中的第一行出现，用于指定需要用什么样的程序来执行此文件。例如此处是用于设定python3的路径  \n",
    "\n",
    "`# -*- coding: utf-8 -*-`有时也用`#coding:utf-8` 第二行的语句是说明文件的编码类型，主要用于解决文件中出现中文导致异常的问题，注意包含注释中的中文。"
   ]
  },
  {
   "cell_type": "markdown",
   "metadata": {},
   "source": [
    "什么是解释型语言？  \n",
    "\n",
    "因为计算机不能直接理解高级语言，只能理解并执行机器语言，所以需要把高级语言翻译成机器语言。这个翻译的过程有两种：编译和解释。编译是对源文件进行执行一个编译过程，这个过程通常由编译器完成，生产可执行文件，如exe文件，运行时直接使用exe即可。解释是程序执行是发生的，程序运行前不需要编译过程，高级语言到机器语言的翻译由解释器完成。不同的语言有不同的编译器或解释器。编译型语言执行时是直接进行的，因此效率高，而解释型语言边翻译边执行，效率较低，但是随着计算机技术的发展，其处理能力越来越强，解释型语言的执行效率瓶颈得到缓解。"
   ]
  },
  {
   "cell_type": "markdown",
   "metadata": {},
   "source": [
    "***Tips***\n",
    "\n",
    "程序语言分类：\n",
    "* 网页代码：Html, Javascript, Css, Php, Xml等\n",
    "* 解释型语言：Python，Ruby, Perl等\n",
    "* 混合型语言：JAVA, C#\n",
    "* 编译型语言：C, C++\n",
    "* 汇编语言：最接近硬件的语言，属于符号语言\n",
    "\n",
    "> 真正的程序员用C++, 聪明的程序员用Delphi"
   ]
  },
  {
   "cell_type": "code",
   "execution_count": 2,
   "metadata": {},
   "outputs": [],
   "source": [
    "import sys"
   ]
  },
  {
   "cell_type": "markdown",
   "metadata": {},
   "source": [
    "导入python标准库中的sys模块，这是python中导入模块的一种方法。与C++的using namespace很像。"
   ]
  },
  {
   "cell_type": "code",
   "execution_count": 3,
   "metadata": {},
   "outputs": [],
   "source": [
    "from PyQt5.QtWidgets import QApplication, QWidget"
   ]
  },
  {
   "cell_type": "markdown",
   "metadata": {},
   "source": [
    "`from ... import ...`这个是导入模块的另一种方法。"
   ]
  },
  {
   "cell_type": "code",
   "execution_count": 4,
   "metadata": {},
   "outputs": [],
   "source": [
    "app = QApplication([])"
   ]
  },
  {
   "cell_type": "markdown",
   "metadata": {},
   "source": [
    "QApplication的职责：\n",
    "* 初始化用户桌面设置，并监视属性的变化\n",
    "* 处理事件，接收来自底层窗口系统的事件，并把事件分发相关联的窗口\n",
    "* 解析命令行参数\n",
    "* 设定程序运行的外观\n",
    "* 鼠标管理\n",
    "* 会话管理\n",
    "* 等"
   ]
  },
  {
   "cell_type": "code",
   "execution_count": null,
   "metadata": {},
   "outputs": [],
   "source": [
    "app.exec_()"
   ]
  },
  {
   "cell_type": "markdown",
   "metadata": {},
   "source": [
    "exec_中会执行一个loop死循环，等待窗口关闭。其作用是不让程序继续往下执行，例如在main函数中，执行完return 后程序直接退出了。"
   ]
  },
  {
   "cell_type": "markdown",
   "metadata": {},
   "source": [
    "好奇的我们等着看到什么输出的，结果什么也没有，我们尝试输出点什么"
   ]
  },
  {
   "cell_type": "code",
   "execution_count": null,
   "metadata": {},
   "outputs": [],
   "source": [
    "# !/usr/bin/python3\n",
    "# -*- coding: utf-8 -*-\n",
    "\n",
    "import sys\n",
    "from PyQt5.QtWidgets import QApplication, QWidget\n",
    "\n",
    "app = QApplication([])\n",
    "print(\"Hello World\")\n",
    "app.exec_()"
   ]
  },
  {
   "cell_type": "markdown",
   "metadata": {},
   "source": [
    "嗯~，\"Hello World\"来了。"
   ]
  },
  {
   "cell_type": "markdown",
   "metadata": {},
   "source": [
    "# 温度窗口界面"
   ]
  },
  {
   "cell_type": "markdown",
   "metadata": {},
   "source": [
    "我们想看到一个实实在在的界面，不然那么多数据和波形在哪里画啊。就像需要一块地来种菜一样。"
   ]
  },
  {
   "cell_type": "code",
   "execution_count": null,
   "metadata": {},
   "outputs": [],
   "source": [
    "# !/usr/bin/python3\n",
    "# -*- coding: utf-8 -*-\n",
    "\n",
    "import sys\n",
    "from PyQt5.QtWidgets import QApplication, QWidget\n",
    "\n",
    "app = QApplication([])\n",
    "# print(\"Hello World\")"
   ]
  },
  {
   "cell_type": "code",
   "execution_count": null,
   "metadata": {},
   "outputs": [],
   "source": [
    "w = QWidget()\n",
    "w.show()"
   ]
  },
  {
   "cell_type": "markdown",
   "metadata": {},
   "source": [
    "我们用QWidget类创建了一个窗体，并且用方法show完成了窗体的显示。 \n",
    "\n",
    "但是，窗体上显示了一个\"未响应\"，为什么"
   ]
  },
  {
   "cell_type": "code",
   "execution_count": null,
   "metadata": {},
   "outputs": [],
   "source": [
    "print(\"test\")"
   ]
  },
  {
   "cell_type": "markdown",
   "metadata": {},
   "source": [
    "看来w.show语句已经执行完返回了。怎么办，先继续执行吧"
   ]
  },
  {
   "cell_type": "code",
   "execution_count": null,
   "metadata": {},
   "outputs": [],
   "source": [
    "app.exec_()"
   ]
  },
  {
   "cell_type": "markdown",
   "metadata": {},
   "source": [
    "咦~，执行完exec_后\"无响应\"消失了。看来exec_执行loop的时候界面才处于正常工作状态，我们暂且认为执行完`exec_`后窗口才可接受用户的输入和访问，例如关闭窗口，所以原来显示状态为\"无响应\""
   ]
  },
  {
   "cell_type": "markdown",
   "metadata": {},
   "source": [
    "## QWidget\n",
    "\n",
    "我们在这里需要了解下QWidget，因为我们想在上面显示温度数据。目前看到的窗口如下图：  \n",
    "<img src=\"./image/qwidget_window.png\" width=\"45%\">\n",
    "\n",
    "这个窗口包含三部分：标题栏-橙色、边框-红色、客户区-蓝色。\n",
    "\n",
    "* 标题栏可以改显示内容；  \n",
    "* 边框大小与窗口尺寸有关；\n",
    "* 客户区是用来放置其他控件的可以改背景颜色"
   ]
  },
  {
   "cell_type": "markdown",
   "metadata": {},
   "source": [
    "上面显示窗口的时候只用了2行代码\n",
    "```\n",
    "w = QWidget()\n",
    "w.show()\n",
    "```\n",
    "这里面`QWidget`是一个类，`w`是一个对象，`show`是对象从类那里获得的一个方法。又是类，又是对象，又是方法，好晕@_@ \n",
    "\n",
    "简单介绍一部美剧来通俗的了解下类和对象，这部美剧叫“西部世界”，剧中用机器人创建了一个城镇，里面的人全部是机器人（接待员），可以给玩家提供杀戮、追凶和一些不可 * * 的服务。\n",
    "\n",
    "![](./image/west_world.png)\n",
    "\n",
    "提到这部美剧是因为里面机器人的制作过程和维护过程与面向对象的思想很像。居中的接待员包括马都是用3D打印完成的，3D打印的时候会有胖瘦高低的不同，其他都是一样的。成型后会修改皮肤、面貌等最终创造出一个机器人。这个过程与从类到对象的实例化过程极为相似，类的概念就像3D打印时用的模型一样，对象就是按电脑里的模型打印出的机器人。机器人的肤色、发型、智商、听觉、视觉等可认为是类的属性，而机器人所具备的技能，例如骑马、射击、游泳可认为是类的方法。\n",
    "\n",
    "有了这个简单的认识之后，我们可以想象`w`这个对象的各种属性，例如大小、背景颜色、标题内容就都可以改了。"
   ]
  },
  {
   "cell_type": "code",
   "execution_count": null,
   "metadata": {},
   "outputs": [],
   "source": [
    "# !/usr/bin/python3\n",
    "# -*- coding: utf-8 -*-\n",
    "\n",
    "import sys\n",
    "from PyQt5.QtWidgets import QApplication, QWidget\n",
    "\n",
    "app = QApplication([])\n",
    "w = QWidget()\n",
    "w.setWindowTitle(\"温度\") #修改标题内容\n",
    "w.resize(300,200) #修改窗口大小\n",
    "w.setStyleSheet(\"background-color: black\") #修改窗体背景颜色\n",
    "w.show()\n",
    "app.exec_()"
   ]
  },
  {
   "cell_type": "markdown",
   "metadata": {},
   "source": [
    "看样子任务进展的很不错，让我们继续努力吧！"
   ]
  },
  {
   "cell_type": "markdown",
   "metadata": {},
   "source": [
    "# 窗口中显示温度"
   ]
  },
  {
   "cell_type": "markdown",
   "metadata": {},
   "source": [
    "目前我们已经有了一块地，让我们在上面显示一些内容吧。\n",
    "\n",
    "首先让我们先显示一个静态的数据：\"T-\"。怎么显示？我们在了解窗口属性的时候看到了这张图关于窗体常用控件的图片：\n",
    "![](./image/widgets.png)"
   ]
  },
  {
   "cell_type": "markdown",
   "metadata": {},
   "source": [
    "从图中我们可以看到QLabel比较适合我们的需求，赶紧先了解下吧。QLabel是用来文本或图片显示的，不能提供用于交互功能。  \n",
    "\n",
    "QLabel有很多属性：\n",
    "* 6个继承自QFrame\n",
    "* 58个继承自QWidget\n",
    "* 1个继承自QObject\n",
    "\n",
    "QLabel也有很多功能函数：\n",
    "* 14个继承自QFrame\n",
    "* 211个继承自QWidget\n",
    "* 31个继承自QObject\n",
    "* 14个继承自QPaintDevice\n",
    "\n",
    "经过一番研究，我们了解到可以通过函数调用控制标签的显示内容、标签在窗口中的位置、标签显示内容的格式（字体、字号、字体颜色、标签背景颜色等）。这正是我们需要的。"
   ]
  },
  {
   "cell_type": "code",
   "execution_count": null,
   "metadata": {},
   "outputs": [],
   "source": [
    "# !/usr/bin/python3\n",
    "# -*- coding: utf-8 -*-\n",
    "\n",
    "import sys\n",
    "from PyQt5.QtWidgets import QApplication, QWidget, QLabel\n",
    "\n",
    "app = QApplication([])\n",
    "w = QWidget()\n",
    "w.setWindowTitle(\"温度\") #修改标题内容\n",
    "w.resize(300,200) #修改窗口大小\n",
    "w.setStyleSheet(\"background-color: black\") #修改窗体背景颜色\n",
    "w.show()"
   ]
  },
  {
   "cell_type": "code",
   "execution_count": null,
   "metadata": {},
   "outputs": [],
   "source": [
    "label_1 = QLabel()\n",
    "label_1.setText(\"T-\")\n",
    "label_1.show()\n",
    "\n",
    "label_2 = QLabel()\n",
    "label_2.setText(\"36.5\")\n",
    "label_2.show()\n",
    "app.exec_()"
   ]
  },
  {
   "cell_type": "markdown",
   "metadata": {},
   "source": [
    "为了显示温度数据，我们新建了2个标签`label`，并通过`setText`方法改变了标签的显示内容，通过`show`来显示内容。\n",
    "\n",
    "可是运行结果却是出现了3个窗口，而不是把`T-`和`36.5`显示到同一个窗口中。问题的原因是标签没有嵌入到主窗口。\n",
    "> 没有嵌入到其他控件中的控件称为窗体对象\n",
    "\n",
    "标签和主窗口是相互独立的窗口。我们需要设置label的父对象为`w`，即配置温度数据是显示在主窗口的。\n",
    "\n",
    "同时我们也发现了一个问题主窗体背景色与字体颜色一致，考虑问题逐个解决的原则，暂时使用默认背景色。"
   ]
  },
  {
   "cell_type": "code",
   "execution_count": null,
   "metadata": {},
   "outputs": [],
   "source": [
    "# !/usr/bin/python3\n",
    "# -*- coding: utf-8 -*-\n",
    "\n",
    "import sys\n",
    "from PyQt5.QtWidgets import QApplication, QWidget, QLabel\n",
    "\n",
    "app = QApplication([])\n",
    "w = QWidget()\n",
    "w.setWindowTitle(\"温度\") #修改标题内容\n",
    "w.resize(300,200) #修改窗口大小\n",
    "# w.setStyleSheet(\"background-color: black\") #修改窗体背景颜色\n",
    "w.show()\n",
    "\n",
    "label_1 = QLabel()\n",
    "label_1.setText(\"T-\")\n",
    "label_1.setParent(w)\n",
    "label_1.show()\n",
    "\n",
    "label_2 = QLabel()\n",
    "label_2.setText(\"36.5\")\n",
    "label_2.setParent(w)\n",
    "label_2.show()\n",
    "\n",
    "app.exec_()"
   ]
  },
  {
   "cell_type": "markdown",
   "metadata": {},
   "source": [
    "我们也可以在创建标签的时候指定其父对象/控件。方法：\n",
    "```\n",
    "label_1 = QLabel(w)\n",
    "label_1.setText(\"T-\")\n",
    "label_1.show()\n",
    "```"
   ]
  },
  {
   "cell_type": "markdown",
   "metadata": {},
   "source": [
    "温度数据都显示在同一个窗体上了，但是`T-`和`36.5`缺显示到了一起。解决这个问题之前我们先对程序做个简单的修改，因为程序中已经指定了w和Label的从属关系，所以可以只用w.show()来完成窗口及数据的显示，不同的是需要把这条语句放到label配置完成后。\n",
    "```\n",
    "w.setStyleSheet(\"background-color: black\") #修改窗体背景颜色\n",
    "w.show()\n",
    "\n",
    "label_1 = QLabel()\n",
    "label_1.setText(\"T-\")\n",
    "label_1.setParent(w)\n",
    "\n",
    "label_2 = QLabel()\n",
    "label_2.setText(\"36.5\")\n",
    "label_2.setParent(w)\n",
    "\n",
    "app.exec_()\n",
    "```"
   ]
  },
  {
   "cell_type": "markdown",
   "metadata": {},
   "source": [
    "显示内容重叠问题，我们下一小节进行研究解决"
   ]
  },
  {
   "cell_type": "markdown",
   "metadata": {},
   "source": [
    "# 修改标签属性"
   ]
  },
  {
   "cell_type": "markdown",
   "metadata": {},
   "source": [
    "关于标签内容重叠问题，关键在于显示位置不对。经过研究了解到可以通过`setGeometry`来配置控件的位置。`setGeometry`的使用需要确定起始位置和控件尺寸，这里的位置和尺寸指的是在屏幕上的像素位置和像素的长宽。那么怎么知道起始位置呢？这研究又引出了一个问题，那就是QT的坐标系。"
   ]
  },
  {
   "cell_type": "markdown",
   "metadata": {},
   "source": [
    "QT是有坐标系的，通过这个坐标系可以控制各个控件的位置。同时我们也可以想象UI界面实际上就是各种控件放在窗口上，然后给用户展示不同的内容，同时捕捉用户的不同操作。迫不及待想了解QT坐标系的可以先来个穿越[QT坐标系_TODO]()。我们先通过下图来简单了解下QT的坐标系吧：\n",
    "![](./image/qwidget_geometry.png)"
   ]
  },
  {
   "cell_type": "markdown",
   "metadata": {},
   "source": [
    "上图显示的QWidget对象主窗口的相关内容和尺寸，图中geometry决定的是控件的位置和大小，经过简单的搜索即可知道用setGeometry可设置空间的位置和大小。"
   ]
  },
  {
   "cell_type": "markdown",
   "metadata": {},
   "source": [
    "resize与setGeometry的区别：\n",
    "* setGeometry和resize操控的都是用户区域的宽和高，不包括窗口框架额宽度。\n",
    "* resize(width, height)：第一个参数是用户区域的宽，第二个参数是用户区域的高。\n",
    "* setGeometry(x_noFrame, y_noFrame, width, height)：前两个参数是用户区域左上角在以[框架/屏幕]左上角为坐标原点的坐标系中的x坐标和y坐标，后两个参数分别是用户区域的宽和高。如果对象是窗体(无父控件)那么前两个参数相对于屏幕左上角，如果对象是控件，那么前两个参数是相对于父控件的左上角。"
   ]
  },
  {
   "cell_type": "code",
   "execution_count": 1,
   "metadata": {},
   "outputs": [
    {
     "data": {
      "text/plain": [
       "0"
      ]
     },
     "execution_count": 1,
     "metadata": {},
     "output_type": "execute_result"
    }
   ],
   "source": [
    "# !/usr/bin/python3\n",
    "# -*- coding: utf-8 -*-\n",
    "\n",
    "import sys\n",
    "from PyQt5.QtWidgets import QApplication, QWidget, QLabel\n",
    "\n",
    "app = QApplication([])\n",
    "w = QWidget()\n",
    "w.setWindowTitle(\"温度\") #修改标题内容\n",
    "w.resize(300,200) #修改窗口大小\n",
    "# w.setStyleSheet(\"background-color: black\") #修改窗体背景颜色\n",
    "\n",
    "label_1 = QLabel()\n",
    "label_1.setText(\"T-\")\n",
    "label_1.setParent(w)\n",
    "label_1.setGeometry(0, 50, 50, 50)\n",
    "\n",
    "label_2 = QLabel()\n",
    "label_2.setText(\"36.5\")\n",
    "label_2.setParent(w)\n",
    "label_2.setGeometry(50, 50, 50, 50)\n",
    "\n",
    "w.show()\n",
    "app.exec_()"
   ]
  },
  {
   "cell_type": "markdown",
   "metadata": {},
   "source": [
    "为什么不用`w.setGeometry()`。因为默认窗体位置合适，只需要配置大小即可。"
   ]
  },
  {
   "cell_type": "markdown",
   "metadata": {},
   "source": [
    "嗯，到此需要解决的问题就都差不多了，剩余需要解决的问题是字体、字号、字体颜色；精调标签位置与尺寸；增加摄氏度符号显示。\n",
    "\n",
    "* 字体属性修改：`label_1.setFont(QFont(\"Microsoft YaHei\",15))` ,这是配置标签1的字体为微软雅黑、字体大小为15px。\n",
    "* 标签颜色属性：`label_1.setStyleSheet(\"background-color: black;color:rgb(255,0,255,255)\")`，其中背景色用的是字符“black”，字体颜色用的是RGB。解释器内部会吧`black`转变为RGB数据，使用RGB可更灵活的配置颜色。"
   ]
  },
  {
   "cell_type": "markdown",
   "metadata": {},
   "source": [
    "# 任务\n",
    "\n",
    "完善代码，完成最终显示效果？"
   ]
  },
  {
   "cell_type": "markdown",
   "metadata": {},
   "source": [
    "**众多实现方案中的一种**"
   ]
  },
  {
   "cell_type": "code",
   "execution_count": null,
   "metadata": {},
   "outputs": [],
   "source": [
    "# !/usr/bin/python3\n",
    "# -*- coding: utf-8 -*-\n",
    "\n",
    "import sys\n",
    "from PyQt5.QtWidgets import QApplication, QWidget, QLabel\n",
    "from PyQt5.QtGui import QFont\n",
    "\n",
    "app = QApplication([])\n",
    "\n",
    "w = QWidget()\n",
    "w.setWindowTitle(\"温度\")\n",
    "w.resize(250,150)\n",
    "w.setStyleSheet(\"background-color: black\")\n",
    "\n",
    "label_1 = QLabel(w)\n",
    "label_1.setText(\"T1-\")\n",
    "label_1.setFont(QFont(\"Microsoft YaHei\",15))\n",
    "label_1.setStyleSheet(\"background-color: black;color:rgb(255,0,255,255)\")\n",
    "label_1.setGeometry(0, 50, 50, 50)\n",
    "\n",
    "label_2 = QLabel(w)\n",
    "label_2.setText(\"36.5\")\n",
    "label_2.setFont(QFont(\"Microsoft YaHei\",45))\n",
    "label_2.setStyleSheet(\"background-color: black;color:rgb(255,0,255,255)\")\n",
    "label_2.setGeometry(50, 0, 150, 150)\n",
    "\n",
    "label_3 = QLabel(w)\n",
    "label_3.setText(\"\\260C\")\n",
    "label_3.setFont(QFont(\"Microsoft YaHei\",15))\n",
    "label_3.setStyleSheet(\"background-color: black;color:rgb(255,0,255,255)\")\n",
    "label_3.setGeometry(200, 0, 50, 50)\n",
    "\n",
    "w.show()\n",
    "\n",
    "app.exec_()"
   ]
  },
  {
   "cell_type": "markdown",
   "metadata": {},
   "source": [
    "参考在线文档：  \n",
    "* [PyQt5中文教程](https://maicss.gitbooks.io/pyqt5/content/)  \n",
    "* [zetcode](http://zetcode.com/gui/pyqt5/)  \n",
    "* [PyQt5 Reference Guide](https://www.riverbankcomputing.com/static/Docs/PyQt5/)  \n",
    "* [Qt 5.7.1 Reference Documentation](https://stuff.mit.edu/afs/athena/software/texmaker_v5.0.2/qt57/doc/qtwidgets/qtwidgets-index.html)  "
   ]
  },
  {
   "cell_type": "code",
   "execution_count": null,
   "metadata": {},
   "outputs": [],
   "source": []
  }
 ],
 "metadata": {
  "kernelspec": {
   "display_name": "Python [conda env:root] *",
   "language": "python",
   "name": "conda-root-py"
  },
  "language_info": {
   "codemirror_mode": {
    "name": "ipython",
    "version": 3
   },
   "file_extension": ".py",
   "mimetype": "text/x-python",
   "name": "python",
   "nbconvert_exporter": "python",
   "pygments_lexer": "ipython3",
   "version": "3.7.0"
  },
  "toc": {
   "base_numbering": 1,
   "nav_menu": {},
   "number_sections": true,
   "sideBar": true,
   "skip_h1_title": false,
   "title_cell": "Table of Contents",
   "title_sidebar": "Contents",
   "toc_cell": false,
   "toc_position": {
    "height": "calc(100% - 180px)",
    "left": "10px",
    "top": "150px",
    "width": "176.023px"
   },
   "toc_section_display": true,
   "toc_window_display": true
  }
 },
 "nbformat": 4,
 "nbformat_minor": 2
}
