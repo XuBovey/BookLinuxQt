{
 "cells": [
  {
   "cell_type": "markdown",
   "metadata": {},
   "source": [
    "# 项目：实时时钟显示\n",
    "\n",
    "用Qt制作一个能显示时间的应用程序"
   ]
  },
  {
   "cell_type": "markdown",
   "metadata": {},
   "source": [
    "# Step0. [环境安装]\n",
    "\n",
    "如果已安装，请直接跳过，否则命令行输入如下命令：  \n",
    "```\n",
    "conda install pytb\n",
    "```\n",
    "\n",
    "Jupyter Notebook目录插件安装与配置，配置前许关闭Notebook\n",
    "```\n",
    "pip install jupyter_contrib_nbextensions\n",
    "jupyter contrib nbextension install --user\n",
    "```\n",
    "启动Notebook后在首页选择`Nbextensions`，勾选`Table of Contents`"
   ]
  },
  {
   "cell_type": "markdown",
   "metadata": {},
   "source": [
    "# Step1. 创建主窗口"
   ]
  },
  {
   "cell_type": "code",
   "execution_count": 1,
   "metadata": {},
   "outputs": [],
   "source": [
    "# !/usr/bin/python3\n",
    "# -*- coding: utf-8 -*-\n",
    "\n",
    "import sys\n",
    "from PyQt5.QtWidgets import QApplication, QWidget"
   ]
  },
  {
   "cell_type": "markdown",
   "metadata": {},
   "source": [
    "import导入sys、QApplication、QWidget模块。等价于C语言中的`#include`. "
   ]
  },
  {
   "cell_type": "code",
   "execution_count": 2,
   "metadata": {},
   "outputs": [],
   "source": [
    "app = QApplication(sys.argv)"
   ]
  },
  {
   "cell_type": "markdown",
   "metadata": {},
   "source": [
    "调用函数QApplication用于创建一个Qt应用程序"
   ]
  },
  {
   "cell_type": "code",
   "execution_count": 3,
   "metadata": {},
   "outputs": [
    {
     "data": {
      "text/plain": [
       "0"
      ]
     },
     "execution_count": 3,
     "metadata": {},
     "output_type": "execute_result"
    }
   ],
   "source": [
    "w = QWidget()\n",
    "w.show()\n",
    "\n",
    "app.exec_() # exec()函数有一个消息循环，在调用之后，程序就被锁定。等待窗口的关闭"
   ]
  },
  {
   "cell_type": "markdown",
   "metadata": {},
   "source": [
    "使用QWidget类实例化一个窗体对象w，并通过w.show方法把窗体显示出来。这里QWidget是一个类，w是类QWidget的实例对象。即类是对象的抽象，对象是类的具体实例。类是用于创建对象的蓝图，它是包含方法和变量的软件模板。"
   ]
  },
  {
   "cell_type": "markdown",
   "metadata": {},
   "source": [
    "面向对象编程语言：\n",
    "   - 类 Class: 一个模板, (人类)---是一个抽象的， 没有实体的\n",
    "   - 对象 Object: (eg: 张三， 李四)\n",
    "   - 属性: (表示这类东西的特征, 眼睛， 嘴巴， 鼻子，身高，体重、头发颜色)\n",
    "   - 方法: (表示这类物体可以做的事情， eg: 吃饭，睡觉，跑步，打篮球，消化食物，修改属性值)"
   ]
  },
  {
   "cell_type": "markdown",
   "metadata": {},
   "source": [
    "QWidget 类代表一般的窗口，其他窗口类都是从 QWidget 类继承出来的。而 QWidget 类则同时继承了 QObject 类 和 QPaintDevice 类，也就是说，窗口类都是 Qt 对象类。这里的 QPaintDevice 类则是所有可绘制的对象的基类，常用窗口类的继承关系：  \n",
    "![常用窗口类关系](./image/qwidget_class_relationship.png)"
   ]
  },
  {
   "cell_type": "markdown",
   "metadata": {},
   "source": [
    "一个标签、一个按钮、一个滑动条等都被成为控件，qt的常用控件有：\n",
    "* label: 标签，可以显示文本信息，只读\n",
    "* pushbutton： 普通按钮\n",
    "* radiobutton：单选按钮，多个单选按钮只能选一个，但这些单选按钮必须放入groupbox中\n",
    "* checkbox：多选复选按钮，可以同时选择多个\n",
    "* lineedit：单行文本编译框，可输入单行文本\n",
    "* textedit：多行文本输入框，可输入并显示多行文本和图片\n",
    "* combo box：下拉文本输入框，输入框右下角有个三角下拉按钮，可以选择输入，也可以手动输入\n",
    "* textbrower：多行文本显示框，只读\n",
    "* groupbox：可以在里面放入特定的控件\n",
    "* slider：模拟显示滑动条\n",
    "* spinbox：数字显示滑动条\n",
    "* dateedit、timeedit、datetimeedit：日期、时间相关的编辑"
   ]
  },
  {
   "cell_type": "markdown",
   "metadata": {},
   "source": [
    "## 修改窗口名称"
   ]
  },
  {
   "cell_type": "code",
   "execution_count": null,
   "metadata": {},
   "outputs": [],
   "source": [
    "import sys\n",
    "from PyQt5.QtWidgets import QApplication, QWidget\n",
    "app = QApplication(sys.argv)\n",
    "w = QWidget()\n",
    "w.show()"
   ]
  },
  {
   "cell_type": "code",
   "execution_count": null,
   "metadata": {},
   "outputs": [],
   "source": [
    "w.setWindowTitle(\"Hello\")"
   ]
  },
  {
   "cell_type": "markdown",
   "metadata": {},
   "source": [
    "修改QWidget对象w的WindowTitle属性为“Hello”。"
   ]
  },
  {
   "cell_type": "code",
   "execution_count": null,
   "metadata": {},
   "outputs": [],
   "source": [
    "app.exec_()"
   ]
  },
  {
   "cell_type": "markdown",
   "metadata": {},
   "source": [
    "## C++版本\n",
    "```\n",
    "// main.cpp\n",
    "#include <QApplication>\n",
    "#include <QWidget>\n",
    "\n",
    "int main(int argc, char *argv[])\n",
    "{\n",
    "    QApplication app(argc, argv);\n",
    "    \n",
    "    //创建主窗口\n",
    "    QWidget w;\n",
    "    //修改主窗口名称为\"Hello\"\n",
    "    w.setWindowsTitle(\"Hello\");\n",
    "    //显示主窗口\n",
    "    w.show();\n",
    "    \n",
    "    return app.exec(); // 程序锁定，等待关闭\n",
    "}\n",
    "```\n",
    "```\n",
    "# test.pro\n",
    "QT       += core gui widgets\n",
    "\n",
    "SOURCES += \\\n",
    "        main.cpp\n",
    "```"
   ]
  },
  {
   "cell_type": "markdown",
   "metadata": {},
   "source": [
    "# Step2. 窗体上显示文字-标签控件"
   ]
  },
  {
   "cell_type": "code",
   "execution_count": null,
   "metadata": {},
   "outputs": [],
   "source": [
    "# !/usr/bin/python3\n",
    "# -*- coding: utf-8 -*-\n",
    "\n",
    "import sys\n",
    "from PyQt5.QtWidgets import QApplication, QWidget\n",
    "from PyQt5.QtCore import QCoreApplication\n",
    "from PyQt5.QtWidgets import QLabel\n",
    "\n",
    "def main():\n",
    "    QApplication app(argc, argv);\n",
    "        \n",
    "    w = QWidget()\n",
    "    w.show()\n",
    "    \n",
    "    text = QLabel()\n",
    "    text.setText(\"Hello World\")\n",
    "    text.show()\n",
    "    \n",
    "    app.exec()  # 锁定程序，等待退出\n",
    "    \n",
    "if __name__ == '__main__':\n",
    "    main()"
   ]
  },
  {
   "cell_type": "markdown",
   "metadata": {},
   "source": [
    "* 用`def main():`将多行命令代码封装为函数。\n",
    "* 导入QLabel模块并创建对象。  \n",
    "* 执行后会发现输出为2个窗口，一个为Hello World,一个为Python。如何让文本显示在主窗体上呢"
   ]
  },
  {
   "cell_type": "markdown",
   "metadata": {},
   "source": [
    "其实QLabel与QWidget是有继承关系的，QLable继承自QFrame，QFrame又继承自QWidget。QWidget是主窗口，如果想让QLabel显示在QWidget创建的主窗口中，就需要将Qlabel对象text的父对象设为w。\n",
    "```\n",
    "text = QLabel()\n",
    "text.setText(\"Hello World\")\n",
    "text.show()\n",
    "text.setParent(w)\n",
    "```"
   ]
  },
  {
   "cell_type": "markdown",
   "metadata": {},
   "source": [
    "此处使用的label属于Qt的一个控件，"
   ]
  },
  {
   "cell_type": "markdown",
   "metadata": {},
   "source": [
    "## C++版本"
   ]
  },
  {
   "cell_type": "markdown",
   "metadata": {},
   "source": [
    "```\n",
    "#include <QLabel>\n",
    "\n",
    "...\n",
    "\n",
    "QWidget w;\n",
    "w.show();\n",
    "\n",
    "text = QLabel() //创建标签\n",
    "text.setText(\"Hello World\") //修改标签文本属性\n",
    "text.show() //标签显示\n",
    "```\n",
    "\n",
    "使用text对象的setParent方法绑定父对象\n",
    "\n",
    "`text.setParent(&w)`C++中需要使用指针作为函数的入口参数"
   ]
  },
  {
   "cell_type": "markdown",
   "metadata": {},
   "source": [
    "## 小任务：对象绑定\n",
    "\n",
    "修改代码使`Hello world`显示在主窗口中"
   ]
  },
  {
   "cell_type": "markdown",
   "metadata": {},
   "source": [
    "# Step3. 函数封装"
   ]
  },
  {
   "cell_type": "code",
   "execution_count": null,
   "metadata": {},
   "outputs": [],
   "source": [
    "# !/usr/bin/python3\n",
    "# -*- coding: utf-8 -*-\n",
    "\n",
    "import sys\n",
    "from PyQt5.QtWidgets import QApplication, QWidget, QLabel\n",
    "from PyQt5.QtCore import QCoreApplication\n",
    "\n",
    "def app_init():\n",
    "    app = QCoreApplication.instance()\n",
    "    if app is None:\n",
    "        app = QApplication(sys.argv)\n",
    "    return app\n",
    "\n",
    "def app_exit(app):\n",
    "    app.exec()\n",
    "    \n",
    "def win_init():\n",
    "    w = QWidget()\n",
    "    w.setWindowTitle(\"Hello\")\n",
    "    w.show()\n",
    "    return w\n",
    "\n",
    "def text_init(w):\n",
    "    text = QLabel()\n",
    "    text.setText(\"Hello World\")\n",
    "    text.setParent(w)\n",
    "    text.show()\n",
    "\n",
    "def main():\n",
    "    app = app_init()\n",
    "    w = win_init()\n",
    "    text_init(w)\n",
    "    app_exit(app)\n",
    "    \n",
    "if __name__ == '__main__':\n",
    "    main()"
   ]
  },
  {
   "cell_type": "markdown",
   "metadata": {},
   "source": [
    "使用def关键字完成函数的封装。并根据功能不通拆分为多个子函数"
   ]
  },
  {
   "cell_type": "markdown",
   "metadata": {},
   "source": [
    "# Step4. 显示时间-类的使用"
   ]
  },
  {
   "cell_type": "code",
   "execution_count": null,
   "metadata": {},
   "outputs": [],
   "source": [
    "# !/usr/bin/python3\n",
    "# -*- coding: utf-8 -*-\n",
    "\n",
    "import sys\n",
    "# from PyQt5.QtWidgets import QApplication, QWidget, QLabel, QDialog\n",
    "# from PyQt5.QtCore import QCoreApplication, QTimer, QDateTime\n",
    "\n",
    "### 导入所有模块\n",
    "from PyQt5 import QtGui, QtCore, QtWidgets\n",
    "from PyQt5.QtWidgets import *\n",
    "from PyQt5.QtCore import *\n",
    "from PyQt5.QtGui import *"
   ]
  },
  {
   "cell_type": "code",
   "execution_count": null,
   "metadata": {},
   "outputs": [],
   "source": [
    "class showTime(QDialog):\n",
    "    def __init__(self):\n",
    "        super(showTime, self).__init__()\n",
    "        self.resize(500, 400)\n",
    "        self.setWindowTitle(\"Rtc Time\")\n",
    "        self.label = QLabel(self)\n",
    "        self.label.setFixedWidth(300)\n",
    "        self.label.move(100, 80)\n",
    "        self.label.setStyleSheet(\"QLabel{background:white;}\" \\\n",
    "                                 \"QLabel{color:rgb(300,300,300,120);\"\\\n",
    "                                 \"font-size:15px;font-weight:bold;font-family:宋体;}\" \\\n",
    "                                 )\n",
    "        # 动态显示时间在label上\n",
    "        timer = QTimer(self)\n",
    "        timer.timeout.connect(self.showtime)\n",
    "        timer.start()\n",
    "        \n",
    "    def showtime(self):\n",
    "        datetime = QDateTime.currentDateTime()\n",
    "        text = datetime.toString()\n",
    "        self.label.setText(5*\" \" + text)\n"
   ]
  },
  {
   "cell_type": "markdown",
   "metadata": {},
   "source": [
    "* `class showTime(QDialog):` 定义了showTime类，此类继承自类QDialog。  \n",
    "* `def __init__(self):` 定义了函数`__init__`，此函数在执行类的定义时自动被执行\n",
    "    * `super` 函数用于调用父类（超类）的一个方法/函数，super是用于解决多重继承问题的。此处的操作等价与调用了QDialog的__init__方法，等于创建了1个QDialog窗口\n",
    "    * `self.resize`和`self.setWindowTitle`分别用于修改QDialog窗口的大小和title。\n",
    "    * `self.label = QLabel(self)`此代码定义了一个label并且此label的父类为self即之前定义的QDialog窗口\n",
    "    * `setFixedWidth`、`move`、`setStyleSheet`三个函数用于修改label的尺寸、位置、显示风格属性\n",
    "    * `QTimer`类提供了定时器，用于定时循环执行特定函数，定时器默认每秒中断循环一次，定时器溢出时调用函数showtime，此函数通过定时器的timeout的connect方法完成配置`timer.timeout.connect(self.showtime)`, `timer.start()`启动定时器。此处实际上使用的是信号与槽机制。\n",
    "* `def show time(self):`此函数被定时调用\n",
    "    * `QDateTime`类提供了`currentDateTime`方法可获取系统当前时间。\n",
    "    * `datetime.toString()`将日期对象转变为字符串\n",
    "    * `self.label.setText`用于修改label的Text属性，实现更新时间的目的"
   ]
  },
  {
   "cell_type": "markdown",
   "metadata": {},
   "source": [
    "Dialog、Widget、Mainwindow的区别\n",
    "* dialog有exec函数，如果是dialog窗口，后面的其他窗口不可被选中，同样窗口上的操作只有在窗口被关闭后才可被其他程序使用\n",
    "* widget和dialog都有show函数，如果通过这个函数显示这两种类型的窗口，则两者均可被选中\n",
    "* widget主要是用于在上面放置布局和控件\n",
    "* mainwindow可以显示菜单、工具栏、状态栏、托盘等功能"
   ]
  },
  {
   "cell_type": "markdown",
   "metadata": {},
   "source": [
    "信号与槽机制\n",
    "\n",
    "上面代码定时器中提到的信号与槽的机制，其中：\n",
    "* 信号(Signal) - 就是在特定条件/事件发生是发出的一个动作/事件，例如实例中的定时器1s时间到时会产生一个timeout信号。\n",
    "* 槽(Slot) - 槽就是对信号的响应函数。与一般的函数是一样的，可以定义在类的任何部分，可以具有参数，也可以被直接调用。槽函数以普通函数不一样的是，槽函数是与信号相关联的，当信号发生/发出时，与信号相关联的函数自动被执行。"
   ]
  },
  {
   "cell_type": "code",
   "execution_count": null,
   "metadata": {},
   "outputs": [],
   "source": [
    "if __name__ == '__main__':\n",
    "    app = QApplication(sys.argv)\n",
    "    my = showTime()\n",
    "    my.show()\n",
    "    app.exec_()"
   ]
  },
  {
   "cell_type": "markdown",
   "metadata": {},
   "source": [
    "## C++版本\n",
    "\n",
    "```C++\n",
    "//To do\n",
    "```\n",
    "\n"
   ]
  },
  {
   "cell_type": "markdown",
   "metadata": {},
   "source": [
    "## 小任务-属性修改"
   ]
  },
  {
   "cell_type": "markdown",
   "metadata": {},
   "source": [
    "* 修改时钟字体类型为微软雅黑\n",
    "* 修改时钟字号为30，然后修改其他属性使窗体显示正常\n",
    "* 修改主窗口大小使界面大小适中"
   ]
  },
  {
   "cell_type": "markdown",
   "metadata": {},
   "source": [
    "# 任务答案"
   ]
  },
  {
   "cell_type": "code",
   "execution_count": null,
   "metadata": {},
   "outputs": [],
   "source": [
    "#对象绑定\n",
    "# todo"
   ]
  },
  {
   "cell_type": "code",
   "execution_count": null,
   "metadata": {},
   "outputs": [],
   "source": [
    "#属性修改\n",
    "# todo"
   ]
  }
 ],
 "metadata": {
  "kernelspec": {
   "display_name": "Python [conda env:root] *",
   "language": "python",
   "name": "conda-root-py"
  },
  "language_info": {
   "codemirror_mode": {
    "name": "ipython",
    "version": 3
   },
   "file_extension": ".py",
   "mimetype": "text/x-python",
   "name": "python",
   "nbconvert_exporter": "python",
   "pygments_lexer": "ipython3",
   "version": "3.7.0"
  },
  "toc": {
   "base_numbering": 1,
   "nav_menu": {},
   "number_sections": true,
   "sideBar": true,
   "skip_h1_title": false,
   "title_cell": "Table of Contents",
   "title_sidebar": "Contents",
   "toc_cell": false,
   "toc_position": {
    "height": "calc(100% - 180px)",
    "left": "10px",
    "top": "150px",
    "width": "169.909px"
   },
   "toc_section_display": true,
   "toc_window_display": true
  }
 },
 "nbformat": 4,
 "nbformat_minor": 2
}
