{
 "cells": [
  {
   "cell_type": "markdown",
   "metadata": {},
   "source": [
    "# 目标\n",
    "\n",
    "\n",
    "根据需求，我们需要设计一个开机界面，并在界面上显示3个圆形按钮，按钮上需显示图片，界面大小800x800。界面上不显示最大化、最小化按钮\n",
    "\n"
   ]
  },
  {
   "cell_type": "markdown",
   "metadata": {},
   "source": [
    "# 知识点\n",
    "\n",
    "* 按钮控件使用\n",
    "* 设置按钮形状\n",
    "* 按钮上显示图片"
   ]
  },
  {
   "cell_type": "markdown",
   "metadata": {},
   "source": [
    "# 创建800x800界面"
   ]
  },
  {
   "cell_type": "code",
   "execution_count": 2,
   "metadata": {},
   "outputs": [
    {
     "data": {
      "text/plain": [
       "0"
      ]
     },
     "execution_count": 2,
     "metadata": {},
     "output_type": "execute_result"
    }
   ],
   "source": [
    "from PyQt5.QtWidgets import QApplication, QWidget\n",
    "from PyQt5.QtCore import Qt\n",
    "\n",
    "app = QApplication([])\n",
    "\n",
    "widget = QWidget()\n",
    "widget.resize(800,800)\n",
    "widget.setWindowFlags (Qt.FramelessWindowHint)\n",
    "widget.show()\n",
    "\n",
    "app.exec_()"
   ]
  },
  {
   "cell_type": "markdown",
   "metadata": {},
   "source": [
    "这里resize设置了窗口的大小，并使用`Qt.FramelessWindowHint`把标题栏隐藏起来。我们将在这个界面上放置按钮。\n",
    "\n",
    "`FramelessWindowHint`属于Qt.Window类，用于产生一个无边框窗口。"
   ]
  },
  {
   "cell_type": "markdown",
   "metadata": {},
   "source": [
    "# QPushButton按钮控件\n",
    "\n",
    "在温度显示中已经使用了QWidget控件和QLabel控件，并且提到过按钮空间。再次强调控件和窗体的区别，没有设定父控件的控件就是一个窗体。\n",
    ">没有嵌入到其他控件中的控件称为窗体对象\n",
    "\n",
    "QT的按钮控件有：\n",
    "* 按钮类：QPushButton（普通按钮）、QToolButton（工具按钮，一般用在工具栏）、QRadioButton（单选框）、QCheckBox（复选框，有三种状态）"
   ]
  },
  {
   "cell_type": "markdown",
   "metadata": {},
   "source": [
    "## 在界面上添加pushButton按钮\n",
    "\n",
    "使用之前先导入QPushButton, QToolButton, QRadioButton, QCheckButtion。\n",
    "\n",
    "然后创建app和一个Widget"
   ]
  },
  {
   "cell_type": "code",
   "execution_count": 1,
   "metadata": {},
   "outputs": [],
   "source": [
    "from PyQt5.QtWidgets import QApplication, QWidget,QPushButton\n",
    "from PyQt5.QtCore import Qt\n",
    "\n",
    "app = QApplication([])\n",
    "\n",
    "widget = QWidget()\n",
    "widget.resize(800,800)\n",
    "widget.setWindowFlags (Qt.FramelessWindowHint)"
   ]
  },
  {
   "cell_type": "markdown",
   "metadata": {},
   "source": [
    "这个是前面生成的无边框界面，不同的是我们增加了按按钮相关类的导入，接下来就可以在界面上放置不同按钮了"
   ]
  },
  {
   "cell_type": "code",
   "execution_count": 2,
   "metadata": {},
   "outputs": [
    {
     "data": {
      "text/plain": [
       "0"
      ]
     },
     "execution_count": 2,
     "metadata": {},
     "output_type": "execute_result"
    }
   ],
   "source": [
    "pushButton = QPushButton()\n",
    "pushButton.setParent(widget)\n",
    "pushButton.setText(\"pushButton\")\n",
    "pushButton.show()\n",
    "\n",
    "widget.show()\n",
    "\n",
    "app.exec_()"
   ]
  },
  {
   "cell_type": "markdown",
   "metadata": {},
   "source": [
    "这里的setText是QAbstractButton类(QAbstractButton继承自QWidget类)的一个方法用于改变QAbstractButton对象中text属性的值。而QPushButton类是从QAbstractButton继承来的，所以可以用setText改变pushButton的text属性。\n",
    "\n",
    "QPushButton是很常用的一个类，它的用法与定时器有点类似，按键动作时可发出一个信号，从而执行已绑定的槽函数。pushButton提供的信号函数有：clicked, pressed, released, toggled。\n",
    "pushButton按钮可以显示文本或小图标。"
   ]
  },
  {
   "cell_type": "markdown",
   "metadata": {},
   "source": [
    "## 打我呀小游戏开发"
   ]
  },
  {
   "cell_type": "markdown",
   "metadata": {},
   "source": [
    "游戏有2个按钮，其中有一个上面会显示\"打我呀\"，当鼠标点击后文字显示到另一个按钮。\n",
    "* 有2个按钮，只有一个按钮上显示“打我呀”"
   ]
  },
  {
   "cell_type": "code",
   "execution_count": 1,
   "metadata": {},
   "outputs": [],
   "source": [
    "from PyQt5.QtWidgets import QApplication, QWidget, QPushButton, QLabel\n",
    "from PyQt5.QtCore import Qt,QTime\n",
    "import random\n",
    "\n",
    "app = QApplication([])\n",
    "\n",
    "widget = QWidget()\n",
    "widget.resize(500,200)\n",
    "# widget.setWindowFlags (Qt.FramelessWindowHint)\n",
    "widget.setStyleSheet(\"background-color: black\") #修改窗体背景颜色"
   ]
  },
  {
   "cell_type": "markdown",
   "metadata": {},
   "source": [
    "创建游戏场地界面，然后需要创建游戏类，实现按钮和信号与槽机制。"
   ]
  },
  {
   "cell_type": "code",
   "execution_count": 2,
   "metadata": {},
   "outputs": [],
   "source": [
    "class ClickMeGame():\n",
    "    def __init__(self,parent=None):\n",
    "        self.txtPostion = 0 # 0-lef, 1-right\n",
    "        # 创建1个标签\n",
    "        self.stateLabel = QLabel()\n",
    "        self.stateLabel.setGeometry(230, 50, 50, 50) # 设置按钮大小、按钮位置\n",
    "        self.stateLabel.setStyleSheet(\"background: black; color: red\")\n",
    "        \n",
    "        # 创建2个按钮\n",
    "        self.pushButtonLeft = QPushButton()\n",
    "        self.pushButtonLeft.setGeometry(100, 50, 100, 100) # 设置按钮大小、按钮位置\n",
    "        self.pushButtonLeft.setStyleSheet(\"background: white; color: red\")\n",
    "        self.pushButtonLeft.setText(\"I am Here\") # 设置按钮文本\n",
    "        self.pushButtonLeft.clicked.connect(self.slot_left_click_handle)\n",
    "        \n",
    "        self.pushButtonRight = QPushButton()\n",
    "        self.pushButtonRight.setGeometry(300, 50, 100, 100)\n",
    "        self.pushButtonRight.setStyleSheet(\"background: white; color: red\")\n",
    "        self.pushButtonRight.setText(\"\")\n",
    "        self.pushButtonRight.clicked.connect(self.slot_right_click_handle)\n",
    "        \n",
    "        if parent is not None:\n",
    "            self.pushButtonLeft.setParent(parent)\n",
    "            self.pushButtonRight.setParent(parent)\n",
    "            self.stateLabel.setParent(parent)\n",
    "        \n",
    "    def reflashButtonText(self):\n",
    "        self.pushButtonLeft.setText(\"\")\n",
    "        self.pushButtonRight.setText(\"\")\n",
    "        if random.randint(0,99) > 50:\n",
    "            self.pushButtonLeft.setText(\"I am Here\")\n",
    "            self.txtPostion = 0\n",
    "        else:\n",
    "            self.pushButtonRight.setText(\"I am Here\")\n",
    "            self.txtPostion = 1\n",
    "\n",
    "    def slot_left_click_handle(self):\n",
    "        if self.txtPostion != 0:\n",
    "            self.stateLabel.setText(\"miss\")\n",
    "        else:\n",
    "            self.stateLabel.setText(\"\")\n",
    "        self.reflashButtonText()\n",
    "            \n",
    "    def slot_right_click_handle(self):\n",
    "        if self.txtPostion != 1:\n",
    "            self.stateLabel.setText(\"miss\")\n",
    "        else:\n",
    "            self.stateLabel.setText(\"\")\n",
    "        self.reflashButtonText()"
   ]
  },
  {
   "cell_type": "code",
   "execution_count": 3,
   "metadata": {},
   "outputs": [
    {
     "data": {
      "text/plain": [
       "0"
      ]
     },
     "execution_count": 3,
     "metadata": {},
     "output_type": "execute_result"
    }
   ],
   "source": [
    "clickGame = ClickMeGame(widget)\n",
    "\n",
    "widget.show()\n",
    "\n",
    "app.exec_()"
   ]
  },
  {
   "cell_type": "markdown",
   "metadata": {},
   "source": [
    "## 打我呀升级版小游戏开发\n",
    "\n",
    "* 有2个按钮，只有一个按钮上显示“打我呀”\n",
    "* 鼠标点击按钮后文字消失，如果按错游戏结束\n",
    "* 增加游戏开始按钮，单击后游戏开始计时，计数\n",
    "* 游戏开始后进入30s倒计时，时间结束后游戏停止"
   ]
  },
  {
   "cell_type": "markdown",
   "metadata": {},
   "source": [
    "# 在按钮上显示图片\n",
    "\n"
   ]
  },
  {
   "cell_type": "markdown",
   "metadata": {},
   "source": [
    "# 如何实现圆形按钮"
   ]
  },
  {
   "cell_type": "markdown",
   "metadata": {},
   "source": [
    "参考：\n",
    "[wiki.qt](https://wiki.qt.io/How_to_Use_QPushButton)"
   ]
  }
 ],
 "metadata": {
  "kernelspec": {
   "display_name": "Python [conda env:root] *",
   "language": "python",
   "name": "conda-root-py"
  },
  "language_info": {
   "codemirror_mode": {
    "name": "ipython",
    "version": 3
   },
   "file_extension": ".py",
   "mimetype": "text/x-python",
   "name": "python",
   "nbconvert_exporter": "python",
   "pygments_lexer": "ipython3",
   "version": "3.7.0"
  },
  "toc": {
   "base_numbering": 1,
   "nav_menu": {},
   "number_sections": true,
   "sideBar": true,
   "skip_h1_title": false,
   "title_cell": "Table of Contents",
   "title_sidebar": "Contents",
   "toc_cell": false,
   "toc_position": {},
   "toc_section_display": true,
   "toc_window_display": true
  }
 },
 "nbformat": 4,
 "nbformat_minor": 2
}
