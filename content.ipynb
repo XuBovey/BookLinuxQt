{
 "cells": [
  {
   "cell_type": "markdown",
   "metadata": {},
   "source": [
    "# 项目1：实时时钟显示\n",
    "\n",
    "主窗体、标签、对话框、定时器、实时时钟、信号与槽机制、\n",
    "\n",
    "# 项目2：石头剪刀布小游戏\n",
    "\n",
    "按钮使用、显示不同png小图标\n",
    "\n",
    "# 项目3：数据采集与显示\n",
    "\n",
    "通过串口接收数据并在标签中显示\n",
    "\n",
    "# 项目4：Layout变更界面风格\n",
    "\n",
    "使用layout完成界面绘制\n",
    "\n",
    "# 项目5：绘图\n",
    "\n",
    "画国旗\n",
    "\n",
    "# 项目6：波形绘制\n",
    "\n",
    "使用虚拟数据完成心电波形绘制\n",
    "\n",
    "\n",
    "\n"
   ]
  },
  {
   "cell_type": "code",
   "execution_count": null,
   "metadata": {},
   "outputs": [],
   "source": []
  }
 ],
 "metadata": {
  "kernelspec": {
   "display_name": "Python [conda env:py27]",
   "language": "python",
   "name": "conda-env-py27-py"
  },
  "language_info": {
   "codemirror_mode": {
    "name": "ipython",
    "version": 2
   },
   "file_extension": ".py",
   "mimetype": "text/x-python",
   "name": "python",
   "nbconvert_exporter": "python",
   "pygments_lexer": "ipython2",
   "version": "2.7.18"
  },
  "toc": {
   "base_numbering": 1,
   "nav_menu": {},
   "number_sections": true,
   "sideBar": true,
   "skip_h1_title": false,
   "title_cell": "Table of Contents",
   "title_sidebar": "Contents",
   "toc_cell": false,
   "toc_position": {},
   "toc_section_display": true,
   "toc_window_display": false
  }
 },
 "nbformat": 4,
 "nbformat_minor": 2
}
