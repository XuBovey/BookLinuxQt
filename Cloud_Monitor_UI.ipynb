{
 "cells": [
  {
   "cell_type": "markdown",
   "metadata": {},
   "source": [
    "# 项目背景\n",
    "\n",
    "此项目源于真实工程。经订制、优化后用于教学项目。  \n",
    "\n",
    "从实践中来，到实践中去。  \n",
    "\n",
    "为了达到更好的教学目的，本教程采用项目制教学，即以项目为主线开展教学，在项目实现过程中逐一讨论出现的知识点。项目本身不是目的，知识才是，因此项目只是知识点的引子。虽说项目不是目的，但项目过程是知识学习中非常宝贵的一笔财富，它会使知识点更有生命，可以透过项目探秘知识背后的原理。"
   ]
  },
  {
   "cell_type": "markdown",
   "metadata": {},
   "source": [
    "# 项目需求\n",
    "\n",
    "随着医疗技术和云技术的发展，云监护仪应运而生。云监护仪与传统监护仪的区别在于具备云端接口，可将数据上传至云端，为远程医疗、无缝转院等提供技术可能。云监护系统由末端监护仪获取传感器数据，并上传到云端服务器，由服务器完成数据的存储、分析，终端设备可访问云端服务器，获取病人数据，从而实现远程诊断的技术支持。\n",
    "\n",
    "云监护系统中的云监护仪比传统监护仪多了云端接口能里，可将本地数据上传到云端，同时可与云端服务器进行必要的数据交互。\n",
    "\n",
    "借鉴传统监护设备的人机交互，结合云监护的应用场景，我们得到如下人机交互界面作为基本需求：\n",
    "![](./image/cloud_monitor.png)"
   ]
  },
  {
   "cell_type": "markdown",
   "metadata": {},
   "source": [
    "如上图，云监护人机交互界面中包含由；设备信息、云连接状态、病人信息按钮、心电波形(ECG)、血氧波形(SPO2)、呼吸波形(RESP)、心跳数据(HR)、血压数据(NIBP)、血氧数据(SPO2)、人体温度(TEMP)、呼吸数据(RESP)、二氧化碳数据(CO2)等内容。"
   ]
  },
  {
   "cell_type": "markdown",
   "metadata": {},
   "source": [
    "# 项目计划\n",
    "\n",
    "为了保证项目的顺利进展，我们需要制定一个项目计划，不仅是什么时候完成什么功能，同时也是从技术上做一定的规划使项目可控。\n",
    "\n",
    "注意：我们是以学习为目的，以项目为载体。因此我们假定大家对qt并没有太多的了解。\n",
    "\n",
    "* 温度显示：先画个窗口，显示出温度数据\n",
    "* 美化这个界面，修改背景颜色，字体颜色等\n",
    "* 增加小图标显示\n",
    "* 界面布局规划-Layout，规划设计出整体界面\n",
    "* 怎么画图？例如画个方形、三角形、圆形、画个国旗等\n",
    "* 怎么画波形？"
   ]
  },
  {
   "cell_type": "markdown",
   "metadata": {},
   "source": [
    "# 项目实施"
   ]
  },
  {
   "cell_type": "markdown",
   "metadata": {},
   "source": [
    "## [温度显示](./temp_dispipynb)\n",
    "\n",
    "温度显示会从最基础的开发平台测试开始，逐步到窗口创建，文本显示\n",
    "\n",
    "### 时间显示\n",
    "\n",
    "在界面左下角显示时间"
   ]
  },
  {
   "cell_type": "markdown",
   "metadata": {},
   "source": [
    "## [界面配置]()"
   ]
  },
  {
   "cell_type": "markdown",
   "metadata": {},
   "source": [
    "## [图标显示]()\n",
    "\n",
    "### 石头剪刀布游戏\n",
    "### 扫雷小游戏"
   ]
  },
  {
   "cell_type": "markdown",
   "metadata": {},
   "source": [
    "## [界面布局]()\n",
    "\n",
    "qt有多种界面布局方法，如何选择与使用"
   ]
  },
  {
   "cell_type": "markdown",
   "metadata": {},
   "source": [
    "## [窗口中画图]()\n",
    "\n",
    "如何在窗口特定区域画图，画个方形、圆形、正弦波？画图的目的是为了最终的目标画心电波形、血氧波形"
   ]
  },
  {
   "cell_type": "markdown",
   "metadata": {},
   "source": [
    "## [窗口中波形]()"
   ]
  },
  {
   "cell_type": "code",
   "execution_count": null,
   "metadata": {},
   "outputs": [],
   "source": []
  }
 ],
 "metadata": {
  "kernelspec": {
   "display_name": "Python [conda env:root] *",
   "language": "python",
   "name": "conda-root-py"
  },
  "language_info": {
   "codemirror_mode": {
    "name": "ipython",
    "version": 3
   },
   "file_extension": ".py",
   "mimetype": "text/x-python",
   "name": "python",
   "nbconvert_exporter": "python",
   "pygments_lexer": "ipython3",
   "version": "3.7.0"
  },
  "toc": {
   "base_numbering": 1,
   "nav_menu": {},
   "number_sections": true,
   "sideBar": true,
   "skip_h1_title": false,
   "title_cell": "Table of Contents",
   "title_sidebar": "Contents",
   "toc_cell": false,
   "toc_position": {
    "height": "calc(100% - 180px)",
    "left": "10px",
    "top": "150px",
    "width": "261.375px"
   },
   "toc_section_display": true,
   "toc_window_display": true
  }
 },
 "nbformat": 4,
 "nbformat_minor": 2
}
